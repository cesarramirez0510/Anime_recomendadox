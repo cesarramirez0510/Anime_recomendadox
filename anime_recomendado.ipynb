{
 "cells": [
  {
   "cell_type": "code",
   "execution_count": 1,
   "id": "b1d2ad2f",
   "metadata": {},
   "outputs": [
    {
     "name": "stdout",
     "output_type": "stream",
     "text": [
      "   anime_id            name  user_id  rating\n",
      "0     32281  Kimi no Na wa.       99       5\n",
      "1     32281  Kimi no Na wa.      152      10\n",
      "2     32281  Kimi no Na wa.      244      10\n",
      "3     32281  Kimi no Na wa.      271      10\n",
      "4     32281  Kimi no Na wa.      322      10\n"
     ]
    }
   ],
   "source": [
    "import pandas as pd\n",
    "\n",
    "anime_cols = ['anime_id', 'name', 'genre', 'type', 'episodes', 'rating', 'members']\n",
    "anime = pd.read_csv('anime.csv', names=anime_cols, header=0)\n",
    "\n",
    "rating_cols = ['user_id', 'anime_id', 'rating']\n",
    "ratings = pd.read_csv('rating.csv', names=rating_cols, header=0)\n",
    "\n",
    "ratings = ratings[ratings['rating'] != -1]\n",
    "\n",
    "merged = pd.merge(anime[['anime_id', 'name']], ratings, on='anime_id')\n",
    "print(merged.head())"
   ]
  }
 ],
 "metadata": {
  "kernelspec": {
   "display_name": "Python 3",
   "language": "python",
   "name": "python3"
  },
  "language_info": {
   "codemirror_mode": {
    "name": "ipython",
    "version": 3
   },
   "file_extension": ".py",
   "mimetype": "text/x-python",
   "name": "python",
   "nbconvert_exporter": "python",
   "pygments_lexer": "ipython3",
   "version": "3.13.9"
  }
 },
 "nbformat": 4,
 "nbformat_minor": 5
}
